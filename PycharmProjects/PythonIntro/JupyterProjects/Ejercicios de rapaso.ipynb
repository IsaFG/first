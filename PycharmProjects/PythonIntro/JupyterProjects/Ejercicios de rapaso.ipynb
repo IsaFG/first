{
 "cells": [
  {
   "cell_type": "code",
   "execution_count": null,
   "metadata": {
    "collapsed": false
   },
   "outputs": [],
   "source": [
    "# Ejercicio 1 \n",
    "def contar_bases():\n",
    "    cadena = input(\"Dame una cadena de ADN:\")\n",
    "    A = 0\n",
    "    C = 0\n",
    "    T = 0\n",
    "    G = 0\n",
    "    for i in cadena:\n",
    "        if i == \"A\" or i ==\"a\":\n",
    "            A += 1\n",
    "        elif i == \"C\" or i ==\"c\":\n",
    "            C += 1\n",
    "        elif i == \"T\" or i ==\"t\":\n",
    "            T += 1\n",
    "        elif i == \"G\" or i ==\"g\":\n",
    "            G += 1\n",
    "        else:\n",
    "            print \"Error, esto no es una cadena de ADN\"\n",
    "            break\n",
    "    print \"La cadena contiene \" + str(A) + \" adeninas \" + str(C) + \" citosinas \" + str(T) + \" timidinas \" + str(G) + \" guanosinas \"\n",
    "    \n",
    "contar_bases()"
   ]
  },
  {
   "cell_type": "code",
   "execution_count": null,
   "metadata": {
    "collapsed": false
   },
   "outputs": [],
   "source": [
    "# Ejercicio 2 - calcular factorial\n",
    "def calcular_factorial(n):\n",
    "    x = 1\n",
    "    while n > 1:\n",
    "        x = x * n\n",
    "        print \"X es igual a \" + str(x)\n",
    "        n -= 1\n",
    "    print \"X es FINALMENTE igual a \" + str(x) \n",
    "    return x\n",
    "    \n",
    "calcular_factorial(5)    \n"
   ]
  },
  {
   "cell_type": "code",
   "execution_count": null,
   "metadata": {
    "collapsed": false
   },
   "outputs": [],
   "source": [
    "# Ejercicio 3 - convertir codones en aa\n",
    "def traducir_codon():\n",
    "    codon = str(input(\"Dame un codón:\"))\n",
    "    if codon == \"CTT\":\n",
    "        aminoacido = \"L\"\n",
    "    elif codon == \"ATG\":\n",
    "        aminoacido = \"M\"\n",
    "    elif codon == \"ACA\":\n",
    "        aminoacido = \"T\"\n",
    "    elif codon == \"ACG\":\n",
    "        aminoacido = \"T\"\n",
    "    else:\n",
    "        codon = \"Cualquier codon que no este definido en el programa y me da pereza hacerlo 64 veces\"\n",
    "    return aminoacido\n",
    "\n",
    "traducir_codon()"
   ]
  },
  {
   "cell_type": "code",
   "execution_count": null,
   "metadata": {
    "collapsed": false
   },
   "outputs": [],
   "source": [
    "# Ejercioio 1 - otro método más avanzado\n",
    "cadena = raw_input (\"Introduce cadena :\")\n",
    "Adeninas = 0\n",
    "adeninas = 0\n",
    "Adeninas = cadena.count (\"a\")\n",
    "adeninas = cadena.count (\"A\")\n",
    "print Adeninas\n",
    "print adeninas"
   ]
  },
  {
   "cell_type": "code",
   "execution_count": 13,
   "metadata": {
    "collapsed": false
   },
   "outputs": [
    {
     "name": "stdout",
     "output_type": "stream",
     "text": [
      "Introduzca una hora en el formato hh:mm:ss :12:12:12\n",
      "La hora introducida es : 12:12:12\n",
      "Lo introducido contiene 8 caracteres\n",
      "<type 'str'>\n",
      ":\n",
      ":\n",
      "OK por ahora\n"
     ]
    }
   ],
   "source": [
    "#Ejercicio 4 - horas\n",
    "def verificar_hora():\n",
    "    h = 0\n",
    "    m = 0\n",
    "    s = 0\n",
    "    contar = 0\n",
    "    hora = raw_input(\"Introduzca una hora en el formato hh:mm:ss :\")\n",
    "    print (\"La hora introducida es : \" + hora)\n",
    "    print (\"Lo introducido contiene \" + str(len(hora)) + \" caracteres\")\n",
    "    if len(hora) != 8:\n",
    "        print \"El formato es incorrecto\"\n",
    "    hora_lista = list(hora)\n",
    "    print hora_lista[2]\n",
    "    print hora_lista[5]\n",
    "    if (hora_lista[2] != ':') and (hora_lista[5] != ':'):\n",
    "        print \"El formato es incorrecto\"\n",
    "    else:\n",
    "        print \"OK por ahora\"\n",
    "\n",
    "\n",
    "verificar_hora()"
   ]
  },
  {
   "cell_type": "code",
   "execution_count": null,
   "metadata": {
    "collapsed": true
   },
   "outputs": [],
   "source": []
  },
  {
   "cell_type": "code",
   "execution_count": null,
   "metadata": {
    "collapsed": true
   },
   "outputs": [],
   "source": []
  }
 ],
 "metadata": {
  "kernelspec": {
   "display_name": "Python 2",
   "language": "python",
   "name": "python2"
  },
  "language_info": {
   "codemirror_mode": {
    "name": "ipython",
    "version": 2
   },
   "file_extension": ".py",
   "mimetype": "text/x-python",
   "name": "python",
   "nbconvert_exporter": "python",
   "pygments_lexer": "ipython2",
   "version": "2.7.12"
  }
 },
 "nbformat": 4,
 "nbformat_minor": 1
}
