{
 "cells": [
  {
   "cell_type": "code",
   "execution_count": 3,
   "metadata": {
    "collapsed": false
   },
   "outputs": [
    {
     "name": "stdout",
     "output_type": "stream",
     "text": [
      "['E', 's', 't', 'o', ' ', 'e', 's']\n"
     ]
    }
   ],
   "source": [
    "lista = list(\"Esto es\")\n",
    "print lista"
   ]
  },
  {
   "cell_type": "code",
   "execution_count": null,
   "metadata": {
    "collapsed": true
   },
   "outputs": [],
   "source": [
    "import sys\n",
    "print \"1\"\n",
    "sys.exit(\"mensaje de error\")"
   ]
  },
  {
   "cell_type": "code",
   "execution_count": 7,
   "metadata": {
    "collapsed": false
   },
   "outputs": [
    {
     "name": "stdout",
     "output_type": "stream",
     "text": [
      "Pulse 1 para multiplicar dos numeros\n",
      "Pulse 2 para elevar un numero a otro\n",
      "Pulse 3 para conocer el factorial de un numero\n",
      "Pulse 4 para salir\n",
      "opcion: 5\n",
      "5\n",
      "opcion no valida\n"
     ]
    }
   ],
   "source": [
    "#Ejercicio 5\n",
    "opcion = 0\n",
    "while opcion != 4:\n",
    "    print 'Pulse 1 para multiplicar dos numeros'\n",
    "    print 'Pulse 2 para elevar un numero a otro'\n",
    "    print 'Pulse 3 para conocer el factorial de un numero'\n",
    "    print 'Pulse 4 para salir'\n",
    "\n",
    "opcion = input('opcion: ')\n",
    "\n",
    "if opcion == 1:\n",
    "    print '\\n'\n",
    "    print 'opcion 1'\n",
    "    op1 = input('Introduzca el primer operando: ')\n",
    "    op2 = input('Introduzca el segundo operando: ')\n",
    "    print 'El resultado es: ', op1*op2\n",
    "elif opcion == 2:\n",
    "    print 'opcion 2'\n",
    "elif opcion == 3:\n",
    "    print 'opcion 3'\n",
    "elif opcion == 4:\n",
    "    print 'opcion 4'\n",
    "else: \n",
    "    print 'opcion no valida'"
   ]
  },
  {
   "cell_type": "code",
   "execution_count": 8,
   "metadata": {
    "collapsed": false
   },
   "outputs": [
    {
     "name": "stdout",
     "output_type": "stream",
     "text": [
      "====================BIENVENIDO====================\n"
     ]
    }
   ],
   "source": [
    "#imprimir una cadena centrada en cincuenta caracteres\n",
    "cadena = \"BIENVENIDO\"\n",
    "print cadena.center(50,\"=\")"
   ]
  },
  {
   "cell_type": "code",
   "execution_count": null,
   "metadata": {
    "collapsed": true
   },
   "outputs": [],
   "source": []
  }
 ],
 "metadata": {
  "kernelspec": {
   "display_name": "Python 2",
   "language": "python",
   "name": "python2"
  },
  "language_info": {
   "codemirror_mode": {
    "name": "ipython",
    "version": 2
   },
   "file_extension": ".py",
   "mimetype": "text/x-python",
   "name": "python",
   "nbconvert_exporter": "python",
   "pygments_lexer": "ipython2",
   "version": "2.7.12"
  }
 },
 "nbformat": 4,
 "nbformat_minor": 1
}
