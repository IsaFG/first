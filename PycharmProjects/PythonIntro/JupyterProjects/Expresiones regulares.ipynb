{
 "cells": [
  {
   "cell_type": "code",
   "execution_count": null,
   "metadata": {
    "collapsed": true
   },
   "outputs": [],
   "source": [
    "\n",
    "re.compile(patron[, flags])\n",
    "\n",
    "#buscar un patron en la cadena\n",
    "#devuelve none si no encuentra nada\n",
    "re.search(patron, cadena[ ,flags])\n",
    "re.match(patron, cadena[ ,flags])\n",
    "\n",
    "#trocea la cadena\n",
    "#devuelve una lista de cadenas\n",
    "re.split(patron, cadena[ ,maxsplit=0])"
   ]
  },
  {
   "cell_type": "code",
   "execution_count": null,
   "metadata": {
    "collapsed": false
   },
   "outputs": [],
   "source": [
    "re.fullmatch (patron, cadena [, flags])"
   ]
  },
  {
   "cell_type": "code",
   "execution_count": null,
   "metadata": {
    "collapsed": false
   },
   "outputs": [],
   "source": [
    "import re\n",
    "\n",
    "er = re.compile('Es') # er es un patron \"es\"\n",
    "print er #imprimir el patron\n",
    "print er.search('Esto es una prueba')\n",
    "\n",
    "print \"Resultado :\"\n",
    "result = er.search('Esto es una prueba')\n",
    "print result.group()\n",
    "\n",
    "print er.match('Esto es una prueba')\n",
    "\n",
    "\n",
    "print re.search('Esto', 'Esto es una prueba')\n",
    "print re.match('Esto', 'Esto es una prueba')\n",
    "\n",
    "print \"Split\"\n",
    "print re.split('.s', 'Esto es una as prueba')\n",
    "\n",
    "print \"Findall\"\n",
    "print re.findall('es', 'Esto es una es prueba')\n",
    "\n",
    "print re.sub('es', 'no es', 'Esto es una no es prueba')"
   ]
  },
  {
   "cell_type": "code",
   "execution_count": null,
   "metadata": {
    "collapsed": false
   },
   "outputs": [],
   "source": [
    "#Ejercicio 14 - convertir ADN a ARN\n",
    "import re\n",
    "\n",
    "ADN = 'ATGCATGACAGTCA'\n",
    "\n",
    "ARN = re.sub('T', 'U', ADN)\n",
    "\n",
    "print ADN\n",
    "print ARN"
   ]
  },
  {
   "cell_type": "code",
   "execution_count": null,
   "metadata": {
    "collapsed": false
   },
   "outputs": [],
   "source": [
    "import re\n",
    "\n",
    "print re.findall ('[eo]s')"
   ]
  },
  {
   "cell_type": "code",
   "execution_count": null,
   "metadata": {
    "collapsed": false
   },
   "outputs": [],
   "source": [
    "# Grupos\n",
    "# Ejercicio 15\n",
    "import re\n",
    "\n",
    "print \"1\"\n",
    "re.match('(.*)(cat)(.*)', 'the cat in the hat')\n",
    "print \"2\"\n",
    "re.match('(.*)(at)(.*)', 'the cat in the hat')"
   ]
  },
  {
   "cell_type": "code",
   "execution_count": null,
   "metadata": {
    "collapsed": true
   },
   "outputs": [],
   "source": [
    "# Ejercicio 16\n",
    "\n",
    "import re\n",
    "\n",
    "raw_input(\"Introduce una variable de PERL\")\n",
    "\n",
    "# Ejerciocio 17\n",
    "# Leer la cadena para cada caracter y hacer una expresion regular para cada\n",
    "# Luego ya se junta todo"
   ]
  },
  {
   "cell_type": "code",
   "execution_count": null,
   "metadata": {
    "collapsed": false
   },
   "outputs": [],
   "source": [
    "import re\n",
    "# convertir una espresion regular de tipo cadena en espresion regular\n",
    "prog = re.compile ('h[0-9].org') #primer caracter una ha, seguido por un numero y que despues venga el \".org\"\n",
    "\n",
    "# buscar el objeto en la cadena y pasar lo encontrado a la variable result\n",
    "result = prog.search('esto es un dato h4.org valido') \n",
    "\n",
    "print result.group() #imprime lo que ha encontrado"
   ]
  },
  {
   "cell_type": "code",
   "execution_count": null,
   "metadata": {
    "collapsed": false
   },
   "outputs": [],
   "source": [
    "# Objetos MatchObject y grupos\n",
    "import re\n",
    "\n",
    "m = re.match('www\\.(.*)\\..{3}', 'www.python.org')\n",
    "\n",
    "print m.group(1) #identifica el primer grupo que aparece (es decir, grupo que venga entre parentesis)\n",
    "print m.start(1)\n",
    "print m.end(1)\n",
    "print m.span(1) # tupla del primer caracter y el ultimo\n",
    "print \"\"\n",
    "\n",
    "print \"Reconoce TODO :\"\n",
    "print m.group() \n",
    "print m.start()\n",
    "print m.end()\n",
    "print m.span() # tupla del primer caracter y el ultimo\n",
    "print \"\"\n",
    "\n",
    "print \"Reconoce el grupo CERO (que es todo) :\"\n",
    "print m.group(0) \n",
    "print m.start(0)\n",
    "print m.end(0)\n",
    "print m.span(0) # tupla del primer caracter y el ultimo"
   ]
  },
  {
   "cell_type": "code",
   "execution_count": null,
   "metadata": {
    "collapsed": true
   },
   "outputs": [],
   "source": [
    "#Ejercicio 18 - leer a partir de la linea 6"
   ]
  }
 ],
 "metadata": {
  "kernelspec": {
   "display_name": "Python 2",
   "language": "python",
   "name": "python2"
  },
  "language_info": {
   "codemirror_mode": {
    "name": "ipython",
    "version": 2
   },
   "file_extension": ".py",
   "mimetype": "text/x-python",
   "name": "python",
   "nbconvert_exporter": "python",
   "pygments_lexer": "ipython2",
   "version": "2.7.12"
  }
 },
 "nbformat": 4,
 "nbformat_minor": 1
}
