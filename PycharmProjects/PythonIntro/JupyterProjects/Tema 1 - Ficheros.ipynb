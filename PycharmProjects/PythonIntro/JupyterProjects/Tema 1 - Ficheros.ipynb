{
 "cells": [
  {
   "cell_type": "code",
   "execution_count": 7,
   "metadata": {
    "collapsed": false
   },
   "outputs": [
    {
     "name": "stdout",
     "output_type": "stream",
     "text": [
      "Ejemplo 1\n",
      "\n",
      "H\n",
      "el\n",
      "lo,\n",
      "\n",
      "Leer el resto\n",
      " it s me\n",
      "BlablaBlabla\n",
      "Blabla\n",
      "Linea 4\n",
      "Linea 5\n",
      "Finish 1\n",
      "\n",
      "Ejemplo 2\n",
      "Hello, it s me\n",
      "\n",
      "BlablaBlabla\n",
      "\n",
      "Blabla\n",
      "\n",
      "Linea 4\n",
      "\n",
      "Linea 5\n",
      "Finish 2\n"
     ]
    }
   ],
   "source": [
    "#ABRIR UN FICHERO Y LEERLO\n",
    "\n",
    "# Funcion leer1\n",
    "def leer1(fichero):\n",
    "    print 'Ejemplo 1'\n",
    "    f = open(fichero)\n",
    "    #leer según posicion\n",
    "    print f.readline(0)\n",
    "    print f.readline(1)\n",
    "    print f.readline(2)\n",
    "    print f.readline(3)\n",
    "    print ''\n",
    "    print \"Leer el resto\"\n",
    "    print f.read()\n",
    "    f.close()\n",
    "    print \"Finish 1\"\n",
    "    \n",
    "def leer2(fichero):\n",
    "    print 'Ejemplo 2'\n",
    "    f = open(fichero)\n",
    "    for line in f :\n",
    "        print line\n",
    "    f.close()\n",
    "    print 'Finish 2'\n",
    "\n",
    "leer1(\"/home/bioinfo/Proyectos_Python/testFicheros.txt\")\n",
    "print ''\n",
    "leer2(\"/home/bioinfo/Proyectos_Python/testFicheros.txt\")"
   ]
  },
  {
   "cell_type": "code",
   "execution_count": null,
   "metadata": {
    "collapsed": false
   },
   "outputs": [],
   "source": [
    "#FUNCION RECURSIVA - FACTORIAL DE UN NUMERO n\n",
    "def factorial(n):\n",
    "    if n ==0 or n==1:\n",
    "        return 1\n",
    "    else:\n",
    "        return n*factorial(n-1)\n",
    "    \n",
    "factorial(5)"
   ]
  },
  {
   "cell_type": "code",
   "execution_count": 22,
   "metadata": {
    "collapsed": false
   },
   "outputs": [
    {
     "name": "stdout",
     "output_type": "stream",
     "text": [
      "Hello, it s meBlablaBlabla\n",
      "Blabla\n",
      "\n"
     ]
    }
   ],
   "source": [
    "#ESCRIBIR EN UN FICHERO \n",
    "# el argumento final \"a\" permite añadir algo al final del fichero\n",
    "# el argumento \"w\" escribe desde el principio\n",
    "f =  open(\"/home/bioinfo/Proyectos_Python/testFicheros.txt\", 'a')\n",
    "f.write(\"Blabla\\n\")\n",
    "f.close()\n",
    "f =  open(\"/home/bioinfo/Proyectos_Python/testFicheros.txt\")\n",
    "print f.read()\n",
    "f.close()\n"
   ]
  },
  {
   "cell_type": "code",
   "execution_count": null,
   "metadata": {
    "collapsed": true
   },
   "outputs": [],
   "source": []
  },
  {
   "cell_type": "code",
   "execution_count": null,
   "metadata": {
    "collapsed": true
   },
   "outputs": [],
   "source": []
  }
 ],
 "metadata": {
  "kernelspec": {
   "display_name": "Python 2",
   "language": "python",
   "name": "python2"
  },
  "language_info": {
   "codemirror_mode": {
    "name": "ipython",
    "version": 2
   },
   "file_extension": ".py",
   "mimetype": "text/x-python",
   "name": "python",
   "nbconvert_exporter": "python",
   "pygments_lexer": "ipython2",
   "version": "2.7.12"
  }
 },
 "nbformat": 4,
 "nbformat_minor": 1
}
