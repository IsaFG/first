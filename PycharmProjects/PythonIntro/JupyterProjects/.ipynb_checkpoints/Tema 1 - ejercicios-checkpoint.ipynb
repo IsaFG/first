{
 "cells": [
  {
   "cell_type": "code",
   "execution_count": null,
   "metadata": {
    "collapsed": false
   },
   "outputs": [],
   "source": [
    "#Metodos sobre cadenas 1 \n",
    "sentence = [\"Hola\", \"Mundo\"]\n",
    "print sentence\n",
    "conector = \" \"\n",
    "sentence1 = conector.join(sentence)\n",
    "print sentence1"
   ]
  },
  {
   "cell_type": "code",
   "execution_count": null,
   "metadata": {
    "collapsed": false
   },
   "outputs": [],
   "source": [
    "#Metodos sobre cadenas 2\n",
    "sentence_split = 'Hola k ase'.split(' ')\n",
    "print sentence_split"
   ]
  },
  {
   "cell_type": "code",
   "execution_count": null,
   "metadata": {
    "collapsed": false
   },
   "outputs": [],
   "source": [
    "#Ejercicio 3 - bucles \n",
    "# Recorrer una lista de números y encontrar el mayor de ellos\n",
    "def mayor(lista):\n",
    "    x = -999999999999\n",
    "    for i in lista:\n",
    "        if i > x:\n",
    "            x = i\n",
    "    return x\n",
    "\n",
    "print mayor([3,5,112,45,73])\n",
    "print mayor([1,2,3,4,5])\n",
    "\n",
    "# Pedir al usuario de qué tamaño es la lista e ir pidiéndole los números uno a uno.\n",
    "print 'Longitud es igual a '+ str(len([1,2,3,4]))\n"
   ]
  },
  {
   "cell_type": "code",
   "execution_count": null,
   "metadata": {
    "collapsed": false
   },
   "outputs": [],
   "source": [
    "#Ejercicio 5 - diapo 48\n",
    "def dic_animales_anadir(diccionario):\n",
    "    animal = raw_input(\"Introduce un aminal: \")\n",
    "    for word in diccionario:\n",
    "        if animal == word:\n",
    "            error = \"Este animal ya ha sido introducido!\"\n",
    "            return error\n",
    "    nomLatin = raw_input(\"Introduce su nombre en latin: \")\n",
    "    entrada = {animal:nomLatin}\n",
    "    return diccionario.update(entrada)\n",
    "    \n",
    "diccionario1 = {}\n",
    "\n",
    "print \"Paso 1\"\n",
    "dic_animales_anadir(diccionario1)\n",
    "print diccionario1\n",
    "\n",
    "print \"Paso 2\"\n",
    "dic_animales_anadir(diccionario1)\n",
    "print diccionario1\n",
    "\n",
    "print \"Paso 3\"\n",
    "dic_animales_anadir(diccionario1)\n",
    "print diccionario1"
   ]
  },
  {
   "cell_type": "code",
   "execution_count": 2,
   "metadata": {
    "collapsed": false
   },
   "outputs": [
    {
     "name": "stdout",
     "output_type": "stream",
     "text": [
      "\n",
      "Procesando linea 1\n",
      "['Hola', 'Hola', 'Hola\\n']\n",
      "- Encontrada: NUEVA PALABRA : [('Hola', 1)]\n",
      "- Encontrada: nueva ocurrencia de palabra: Hola. Total : 2\n",
      "- Encontrada: NUEVA PALABRA : [('Hola\\n', 1)]\n",
      "{'Hola\\n': 1, 'Hola': 2}\n",
      "\n",
      "Procesando linea 2\n",
      "['Buenas', 'Buenas', 'Hola\\n']\n",
      "- Encontrada: NUEVA PALABRA : [('Buenas', 1)]\n",
      "- Encontrada: nueva ocurrencia de palabra: Buenas. Total : 2\n",
      "- Encontrada: nueva ocurrencia de palabra: Hola\n",
      ". Total : 2\n",
      "{'Buenas': 2, 'Hola\\n': 2, 'Hola': 2}\n",
      "\n",
      "Procesando linea 3\n",
      "['Bonjour\\n']\n",
      "- Encontrada: NUEVA PALABRA : [('Bonjour\\n', 1)]\n",
      "{'Buenas': 2, 'Hola\\n': 2, 'Bonjour\\n': 1, 'Hola': 2}\n",
      "\n",
      "Procesando linea 4\n",
      "['Bonjour\\n']\n",
      "- Encontrada: nueva ocurrencia de palabra: Bonjour\n",
      ". Total : 2\n",
      "{'Buenas': 2, 'Hola\\n': 2, 'Bonjour\\n': 2, 'Hola': 2}\n",
      "\n",
      "Procesando linea 5\n",
      "['Bonjour\\n']\n",
      "- Encontrada: nueva ocurrencia de palabra: Bonjour\n",
      ". Total : 3\n",
      "{'Buenas': 2, 'Hola\\n': 2, 'Bonjour\\n': 3, 'Hola': 2}\n",
      "\n",
      "Procesando linea 6\n",
      "['Bonjour\\n']\n",
      "- Encontrada: nueva ocurrencia de palabra: Bonjour\n",
      ". Total : 4\n",
      "{'Buenas': 2, 'Hola\\n': 2, 'Bonjour\\n': 4, 'Hola': 2}\n",
      "\n",
      "Procesando linea 7\n",
      "['Bonjour\\n']\n",
      "- Encontrada: nueva ocurrencia de palabra: Bonjour\n",
      ". Total : 5\n",
      "{'Buenas': 2, 'Hola\\n': 2, 'Bonjour\\n': 5, 'Hola': 2}\n",
      "\n",
      "Procesando linea 8\n",
      "['Hola', 'Hola', 'Hola', 'Hola\\n']\n",
      "- Encontrada: nueva ocurrencia de palabra: Hola. Total : 3\n",
      "- Encontrada: nueva ocurrencia de palabra: Hola. Total : 4\n",
      "- Encontrada: nueva ocurrencia de palabra: Hola. Total : 5\n",
      "- Encontrada: nueva ocurrencia de palabra: Hola\n",
      ". Total : 3\n",
      "{'Buenas': 2, 'Hola\\n': 3, 'Bonjour\\n': 5, 'Hola': 5}\n",
      "\n"
     ]
    },
    {
     "data": {
      "text/plain": [
       "{'Bonjour\\n': 5, 'Buenas': 2, 'Hola': 5, 'Hola\\n': 3}"
      ]
     },
     "execution_count": 2,
     "metadata": {},
     "output_type": "execute_result"
    }
   ],
   "source": [
    "# Ejercicio 7\n",
    "\n",
    "# Funcion que cree un diccionario con las palabras que aparecen al menos una vez en el fichero\n",
    "def cuenta_palabras(fichero):\n",
    "    f = open(fichero)\n",
    "    dic = {} # definimos un diccionario vacio que vamos a llenar con las palabras que existen en el fichero\n",
    "    iterador = 1\n",
    "    for line in f: # para cada linea del fichero\n",
    "        print \"\"\n",
    "        print \"Procesando linea \" + str(iterador)\n",
    "        word_list = line.split(' ') # en una lista, introducimos el resultado de dividir la linea en sus palabras\n",
    "        print word_list # imprimir la lista de lineas\n",
    "        for word in word_list : # para cada palabra de la lista, buscar si esta en el diccionario, y si no, aniadirla\n",
    "            if word in dic : # si la palabra ya esta en el diccionario\n",
    "                dic[word] += 1 # sumar +1 al valor asociado\n",
    "                print \"- Encontrada: nueva ocurrencia de palabra: \" + str(word) + \". Total : \"+ str(dic[word])\n",
    "            else: # si la palabra no esta\n",
    "                nueva_entrada = {word:1} #crear la nueva entrada de diccionario con una aparicion\n",
    "                dic.update(nueva_entrada) #actualizar el diccionario con la nueva entrada\n",
    "                print \"- Encontrada: NUEVA PALABRA : \" + str(nueva_entrada.items())\n",
    "        iterador += 1\n",
    "        print dic\n",
    "    print \"\" \n",
    "    f.close()\n",
    "    return dic\n",
    "        \n",
    "cuenta_palabras(\"/home/bioinfo/Proyectos_Python/saludos.txt\")\n",
    "\n",
    "# fichero = raw_input('Introduce el nombre del fichero que desse abrir : ') #tenemos un fichero"
   ]
  },
  {
   "cell_type": "code",
   "execution_count": null,
   "metadata": {
    "collapsed": true
   },
   "outputs": [],
   "source": []
  },
  {
   "cell_type": "code",
   "execution_count": null,
   "metadata": {
    "collapsed": true
   },
   "outputs": [],
   "source": []
  }
 ],
 "metadata": {
  "kernelspec": {
   "display_name": "Python 2",
   "language": "python",
   "name": "python2"
  },
  "language_info": {
   "codemirror_mode": {
    "name": "ipython",
    "version": 2
   },
   "file_extension": ".py",
   "mimetype": "text/x-python",
   "name": "python",
   "nbconvert_exporter": "python",
   "pygments_lexer": "ipython2",
   "version": "2.7.12"
  }
 },
 "nbformat": 4,
 "nbformat_minor": 1
}
