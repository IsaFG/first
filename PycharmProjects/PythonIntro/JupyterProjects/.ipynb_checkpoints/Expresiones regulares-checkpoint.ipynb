{
 "cells": [
  {
   "cell_type": "code",
   "execution_count": null,
   "metadata": {
    "collapsed": true
   },
   "outputs": [],
   "source": [
    "\n",
    "re.compile(patron[, flags])\n",
    "\n",
    "#buscar un patron en la cadena\n",
    "#devuelve none si no encuentra nada\n",
    "re.search(patron, cadena[ ,flags])\n",
    "re.match(patron, cadena[ ,flags])\n",
    "\n",
    "#trocea la cadena\n",
    "#devuelve una lista de cadenas\n",
    "re.split(patron, cadena[ ,maxsplit=0])"
   ]
  },
  {
   "cell_type": "code",
   "execution_count": null,
   "metadata": {
    "collapsed": false
   },
   "outputs": [],
   "source": [
    "re.fullmatch (patron, cadena [, flags])"
   ]
  },
  {
   "cell_type": "code",
   "execution_count": 18,
   "metadata": {
    "collapsed": false
   },
   "outputs": [
    {
     "name": "stdout",
     "output_type": "stream",
     "text": [
      "<_sre.SRE_Pattern object at 0x7f229c1f4458>\n",
      "<_sre.SRE_Match object at 0x7f22947f6988>\n",
      "Resultado :\n",
      "Es\n",
      "<_sre.SRE_Match object at 0x7f22947f68b8>\n",
      "<_sre.SRE_Match object at 0x7f22947f68b8>\n",
      "<_sre.SRE_Match object at 0x7f22947f68b8>\n",
      "Split\n",
      "['', 'to ', ' una ', ' prueba']\n",
      "Findall\n",
      "['es', 'es']\n",
      "Esto no es una no no es prueba\n"
     ]
    }
   ],
   "source": [
    "import re\n",
    "\n",
    "er = re.compile('Es') # er es un patron \"es\"\n",
    "print er #imprimir el patron\n",
    "print er.search('Esto es una prueba')\n",
    "\n",
    "print \"Resultado :\"\n",
    "result = er.search('Esto es una prueba')\n",
    "print result.group()\n",
    "\n",
    "print er.match('Esto es una prueba')\n",
    "\n",
    "\n",
    "print re.search('Esto', 'Esto es una prueba')\n",
    "print re.match('Esto', 'Esto es una prueba')\n",
    "\n",
    "print \"Split\"\n",
    "print re.split('.s', 'Esto es una as prueba')\n",
    "\n",
    "print \"Findall\"\n",
    "print re.findall('es', 'Esto es una es prueba')\n",
    "\n",
    "print re.sub('es', 'no es', 'Esto es una no es prueba')"
   ]
  },
  {
   "cell_type": "code",
   "execution_count": 16,
   "metadata": {
    "collapsed": false
   },
   "outputs": [
    {
     "name": "stdout",
     "output_type": "stream",
     "text": [
      "ATGCATGACAGTCA\n",
      "AUGCAUGACAGUCA\n"
     ]
    }
   ],
   "source": [
    "#Ejercicio 14 - convertir ADN a ARN\n",
    "import re\n",
    "\n",
    "ADN = 'ATGCATGACAGTCA'\n",
    "\n",
    "ARN = re.sub('T', 'U', ADN)\n",
    "\n",
    "print ADN\n",
    "print ARN"
   ]
  },
  {
   "cell_type": "code",
   "execution_count": 12,
   "metadata": {
    "collapsed": false
   },
   "outputs": [
    {
     "ename": "TypeError",
     "evalue": "findall() takes at least 2 arguments (1 given)",
     "output_type": "error",
     "traceback": [
      "\u001b[0;31m---------------------------------------------------------------------------\u001b[0m",
      "\u001b[0;31mTypeError\u001b[0m                                 Traceback (most recent call last)",
      "\u001b[0;32m<ipython-input-12-dcd9fed9cd58>\u001b[0m in \u001b[0;36m<module>\u001b[0;34m()\u001b[0m\n\u001b[1;32m      1\u001b[0m \u001b[0;32mimport\u001b[0m \u001b[0mre\u001b[0m\u001b[0;34m\u001b[0m\u001b[0m\n\u001b[1;32m      2\u001b[0m \u001b[0;34m\u001b[0m\u001b[0m\n\u001b[0;32m----> 3\u001b[0;31m \u001b[0;32mprint\u001b[0m \u001b[0mre\u001b[0m\u001b[0;34m.\u001b[0m\u001b[0mfindall\u001b[0m \u001b[0;34m(\u001b[0m\u001b[0;34m'[eo]s'\u001b[0m\u001b[0;34m)\u001b[0m\u001b[0;34m\u001b[0m\u001b[0m\n\u001b[0m",
      "\u001b[0;31mTypeError\u001b[0m: findall() takes at least 2 arguments (1 given)"
     ]
    }
   ],
   "source": [
    "import re\n",
    "\n",
    "print re.findall ('[eo]s')"
   ]
  },
  {
   "cell_type": "code",
   "execution_count": 13,
   "metadata": {
    "collapsed": false
   },
   "outputs": [
    {
     "name": "stdout",
     "output_type": "stream",
     "text": [
      "1\n",
      "2\n"
     ]
    },
    {
     "data": {
      "text/plain": [
       "<_sre.SRE_Match at 0x7f2298c2ed40>"
      ]
     },
     "execution_count": 13,
     "metadata": {},
     "output_type": "execute_result"
    }
   ],
   "source": [
    "# Grupos\n",
    "# Ejercicio 15\n",
    "import re\n",
    "\n",
    "print \"1\"\n",
    "re.match('(.*)(cat)(.*)', 'the cat in the hat')\n",
    "print \"2\"\n",
    "re.match('(.*)(at)(.*)', 'the cat in the hat')"
   ]
  },
  {
   "cell_type": "code",
   "execution_count": null,
   "metadata": {
    "collapsed": true
   },
   "outputs": [],
   "source": [
    "# Ejercicio 16\n",
    "\n",
    "import re\n",
    "\n",
    "raw_input(\"Introduce una variable de PERL\")\n",
    "\n",
    "# Ejerciocio 17\n",
    "# Leer la cadena para cada caracter y hacer una expresion regular para cada\n",
    "# Luego ya se junta todo"
   ]
  },
  {
   "cell_type": "code",
   "execution_count": 14,
   "metadata": {
    "collapsed": false
   },
   "outputs": [
    {
     "name": "stdout",
     "output_type": "stream",
     "text": [
      "h4.org\n"
     ]
    }
   ],
   "source": [
    "import re\n",
    "# convertir una espresion regular de tipo cadena en espresion regular\n",
    "prog = re.compile ('h[0-9].org') #primer caracter una ha, seguido por un numero y que despues venga el \".org\"\n",
    "\n",
    "# buscar el objeto en la cadena y pasar lo encontrado a la variable result\n",
    "result = prog.search('esto es un dato h4.org valido') \n",
    "\n",
    "print result.group() #imprime lo que ha encontrado"
   ]
  },
  {
   "cell_type": "code",
   "execution_count": 20,
   "metadata": {
    "collapsed": false
   },
   "outputs": [
    {
     "data": {
      "text/plain": [
       "(4, 10)"
      ]
     },
     "execution_count": 20,
     "metadata": {},
     "output_type": "execute_result"
    }
   ],
   "source": [
    "# Objetos MatchObject y grupos\n",
    "import re\n",
    "\n",
    "m=re.match('www\\.(.*)\\..{3}', 'www.python.org')\n",
    "m.group(1)\n",
    "\n",
    "m.start(1)\n",
    "\n",
    "m.end(1)\n",
    "\n",
    "\n",
    "m.span(1)"
   ]
  },
  {
   "cell_type": "code",
   "execution_count": null,
   "metadata": {
    "collapsed": true
   },
   "outputs": [],
   "source": []
  }
 ],
 "metadata": {
  "kernelspec": {
   "display_name": "Python 2",
   "language": "python",
   "name": "python2"
  },
  "language_info": {
   "codemirror_mode": {
    "name": "ipython",
    "version": 2
   },
   "file_extension": ".py",
   "mimetype": "text/x-python",
   "name": "python",
   "nbconvert_exporter": "python",
   "pygments_lexer": "ipython2",
   "version": "2.7.12"
  }
 },
 "nbformat": 4,
 "nbformat_minor": 1
}
