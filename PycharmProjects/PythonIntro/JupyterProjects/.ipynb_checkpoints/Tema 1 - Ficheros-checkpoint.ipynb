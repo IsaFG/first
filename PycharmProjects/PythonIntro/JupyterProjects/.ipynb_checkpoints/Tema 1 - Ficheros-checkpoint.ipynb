{
 "cells": [
  {
   "cell_type": "code",
   "execution_count": 13,
   "metadata": {
    "collapsed": false
   },
   "outputs": [
    {
     "name": "stdout",
     "output_type": "stream",
     "text": [
      "\n",
      "H\n",
      "ol\n",
      "a m\n",
      "El resto\n",
      "undo\n",
      "\n",
      "Finish\n"
     ]
    }
   ],
   "source": [
    "#ABRIR UN FICHERO Y LEERLO\n",
    "def leer(fichero):\n",
    "    f = open(fichero)\n",
    "    print f.readline(0)\n",
    "    print f.readline(1)\n",
    "    print f.readline(2)\n",
    "    print f.readline(3)\n",
    "    print \"El resto\"\n",
    "    print f.read()\n",
    "    f.close()\n",
    "    print \"Finish\"\n",
    "\n",
    "leer(\"/home/bioinfo/Proyectos_Python/testFicheros.txt\")"
   ]
  },
  {
   "cell_type": "code",
   "execution_count": null,
   "metadata": {
    "collapsed": false
   },
   "outputs": [],
   "source": [
    "#FUNCION RECURSIVA - FACTORIAL DE UN NUMERO n\n",
    "def factorial(n):\n",
    "    if n ==0 or n==1:\n",
    "        return 1\n",
    "    else:\n",
    "        return n*factorial(n-1)\n",
    "    \n",
    "factorial(5)"
   ]
  },
  {
   "cell_type": "code",
   "execution_count": 22,
   "metadata": {
    "collapsed": false
   },
   "outputs": [
    {
     "name": "stdout",
     "output_type": "stream",
     "text": [
      "Hello, it s meBlablaBlabla\n",
      "Blabla\n",
      "\n"
     ]
    }
   ],
   "source": [
    "#ESCRIBIR EN UN FICHERO \n",
    "# el argumento final \"a\" permite añadir algo al final del fichero\n",
    "# el argumento \"w\" escribe desde el principio\n",
    "f =  open(\"/home/bioinfo/Proyectos_Python/testFicheros.txt\", 'a')\n",
    "f.write(\"Blabla\\n\")\n",
    "f.close()\n",
    "f =  open(\"/home/bioinfo/Proyectos_Python/testFicheros.txt\")\n",
    "print f.read()\n",
    "f.close()\n"
   ]
  },
  {
   "cell_type": "code",
   "execution_count": null,
   "metadata": {
    "collapsed": true
   },
   "outputs": [],
   "source": []
  },
  {
   "cell_type": "code",
   "execution_count": null,
   "metadata": {
    "collapsed": true
   },
   "outputs": [],
   "source": []
  }
 ],
 "metadata": {
  "kernelspec": {
   "display_name": "Python 2",
   "language": "python",
   "name": "python2"
  },
  "language_info": {
   "codemirror_mode": {
    "name": "ipython",
    "version": 2
   },
   "file_extension": ".py",
   "mimetype": "text/x-python",
   "name": "python",
   "nbconvert_exporter": "python",
   "pygments_lexer": "ipython2",
   "version": "2.7.12"
  }
 },
 "nbformat": 4,
 "nbformat_minor": 1
}
